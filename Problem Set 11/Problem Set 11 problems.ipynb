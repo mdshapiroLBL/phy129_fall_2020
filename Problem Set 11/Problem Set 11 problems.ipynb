{
 "cells": [
  {
   "cell_type": "markdown",
   "metadata": {},
   "source": [
    "# Problem Set 11 problems"
   ]
  },
  {
   "cell_type": "markdown",
   "metadata": {},
   "source": [
    "## Question 1: Feynman diagrams with $W$ bosons (24 points)"
   ]
  },
  {
   "cell_type": "markdown",
   "metadata": {},
   "source": [
    "### Learning objectives\n",
    "In this question you will:\n",
    "\n",
    "- Apply knowlege of $W$ Feynman diagrams to various physical processes\n"
   ]
  },
  {
   "cell_type": "markdown",
   "metadata": {},
   "source": [
    "Draw a Feynman diagram involving a $W$ boson for each of the followingbprocesses:"
   ]
  },
  {
   "cell_type": "markdown",
   "metadata": {},
   "source": [
    "### 1a. "
   ]
  },
  {
   "cell_type": "markdown",
   "metadata": {
    "flags": [
     "problems",
     "solutions"
    ]
   },
   "source": [
    "$\\tau^+ \\rightarrow e^+ + \\nu_e + \\overline \\nu_\\tau $"
   ]
  },
  {
   "cell_type": "markdown",
   "metadata": {},
   "source": [
    "Write your answer here"
   ]
  },
  {
   "cell_type": "markdown",
   "metadata": {},
   "source": [
    "### 1b. "
   ]
  },
  {
   "cell_type": "markdown",
   "metadata": {
    "flags": [
     "problems",
     "solutions"
    ]
   },
   "source": [
    "$K^0 \\rightarrow \\pi^- + e^+ + \\nu_e$"
   ]
  },
  {
   "cell_type": "markdown",
   "metadata": {},
   "source": [
    "Write your answer here"
   ]
  },
  {
   "cell_type": "markdown",
   "metadata": {},
   "source": [
    "### 1c. "
   ]
  },
  {
   "cell_type": "markdown",
   "metadata": {},
   "source": [
    " $D^+ \\rightarrow {\\overline{K^0}} + \\mu^+ + \\nu_\\mu $ (Note:  A $D^+$ meson is a $c\\overline d$ combination)"
   ]
  },
  {
   "cell_type": "markdown",
   "metadata": {},
   "source": [
    "Write your answer here"
   ]
  },
  {
   "cell_type": "markdown",
   "metadata": {},
   "source": [
    "### 1d. "
   ]
  },
  {
   "cell_type": "markdown",
   "metadata": {},
   "source": [
    "$\\tau^+ \\rightarrow \\overline \\nu_\\tau + \\pi^+ $"
   ]
  },
  {
   "cell_type": "markdown",
   "metadata": {},
   "source": [
    "Write your answer here"
   ]
  },
  {
   "cell_type": "markdown",
   "metadata": {},
   "source": [
    "### 1e."
   ]
  },
  {
   "cell_type": "markdown",
   "metadata": {},
   "source": [
    "$\\Lambda \\rightarrow p + e^- + \\overline \\nu_e $"
   ]
  },
  {
   "cell_type": "markdown",
   "metadata": {},
   "source": [
    "Write your answer here"
   ]
  },
  {
   "cell_type": "markdown",
   "metadata": {},
   "source": [
    "### 1f."
   ]
  },
  {
   "cell_type": "markdown",
   "metadata": {},
   "source": [
    " $\\nu_e + e^- \\rightarrow \\nu_e + e^- $"
   ]
  },
  {
   "cell_type": "markdown",
   "metadata": {},
   "source": [
    "Write your answer here"
   ]
  },
  {
   "cell_type": "markdown",
   "metadata": {},
   "source": [
    "## Question 2: What is $X$? (20 points)"
   ]
  },
  {
   "cell_type": "markdown",
   "metadata": {},
   "source": [
    "### Learning objectives\n",
    "In this question you will:\n",
    "\n",
    "- Use conservation laws to determine what particles are needed to make a process possible via the weak interaction"
   ]
  },
  {
   "cell_type": "markdown",
   "metadata": {},
   "source": [
    "For each of the weak interations listed below replace the unknown $X$ with the appropriate particle:"
   ]
  },
  {
   "cell_type": "markdown",
   "metadata": {},
   "source": [
    "### 2a."
   ]
  },
  {
   "cell_type": "markdown",
   "metadata": {},
   "source": [
    " $ \\pi^+ \\rightarrow \\pi^0 + e^+ + X $"
   ]
  },
  {
   "cell_type": "markdown",
   "metadata": {},
   "source": [
    "Write your answer here"
   ]
  },
  {
   "cell_type": "markdown",
   "metadata": {},
   "source": [
    "### 2b."
   ]
  },
  {
   "cell_type": "markdown",
   "metadata": {},
   "source": [
    " $ X \\rightarrow e^+ \\nu_e \\overline \\nu_\\mu$"
   ]
  },
  {
   "cell_type": "markdown",
   "metadata": {},
   "source": [
    "Write your answer here"
   ]
  },
  {
   "cell_type": "markdown",
   "metadata": {},
   "source": [
    "### 2c."
   ]
  },
  {
   "cell_type": "markdown",
   "metadata": {},
   "source": [
    "$ K^+ \\rightarrow X e^+ \\nu_e$"
   ]
  },
  {
   "cell_type": "markdown",
   "metadata": {},
   "source": [
    "Write your answer here"
   ]
  },
  {
   "cell_type": "markdown",
   "metadata": {},
   "source": [
    "### 2d"
   ]
  },
  {
   "cell_type": "markdown",
   "metadata": {},
   "source": [
    " $ X + p \\rightarrow n + e^+ $"
   ]
  },
  {
   "cell_type": "markdown",
   "metadata": {},
   "source": [
    "Write your answer here"
   ]
  },
  {
   "cell_type": "markdown",
   "metadata": {},
   "source": [
    "### 2e."
   ]
  },
  {
   "cell_type": "markdown",
   "metadata": {},
   "source": [
    " $D^0 \\rightarrow K^- + \\pi^0 + \\nu_e  +  X $"
   ]
  },
  {
   "cell_type": "markdown",
   "metadata": {},
   "source": [
    "Write your answer here"
   ]
  },
  {
   "cell_type": "markdown",
   "metadata": {},
   "source": [
    "## Question 3 Helicity suppression in two body weak decays (30 points)"
   ]
  },
  {
   "cell_type": "markdown",
   "metadata": {},
   "source": [
    "### Learning objectives\n",
    "In this question you will:\n",
    "\n",
    "- Apply the expression for leptonic weak decays to the case of heavy mesons and demonstrate that the decay rates to different lepton species vary by many orders of magnitude"
   ]
  },
  {
   "cell_type": "markdown",
   "metadata": {},
   "source": [
    "Consider the rare leptonic  decay  $B^+ \\rightarrow \\ell^+ \\nu_\\ell$ (where the $B^+$ is a $u\\overline b $ meson"
   ]
  },
  {
   "cell_type": "markdown",
   "metadata": {},
   "source": [
    "### 3a."
   ]
  },
  {
   "cell_type": "markdown",
   "metadata": {},
   "source": [
    "Explain in words, with an accompanying diagram, why this decay is rare."
   ]
  },
  {
   "cell_type": "markdown",
   "metadata": {},
   "source": [
    "Write your answer here"
   ]
  },
  {
   "cell_type": "markdown",
   "metadata": {},
   "source": [
    "### 3b."
   ]
  },
  {
   "cell_type": "markdown",
   "metadata": {},
   "source": [
    "We saw in class that the charged pion has a partial width for its decay to a muon\n",
    "$$                                                                                                             \n",
    "\\Gamma(\\pi^+\\rightarrow \\mu^+\\nu)  = \\frac{G^2}{8\\pi} f_\\pi^2 m_\\pi m_\\mu^2                                    \n",
    "\\left(  1 - \\frac{m_\\mu^2}{m_\\pi^2}                                                                            \n",
    "\\right )^2                                                                                                     \n",
    "$$\n",
    "where $f_\\pi$ is a constant that is related to the $\\pi$ wave function at the origin, has units of mass. Using the analog of this expression, calculate the relative rates for the $B^+$ to decay to the 3 lepton species $e$, $\\mu$ and $\\tau$."
   ]
  },
  {
   "cell_type": "markdown",
   "metadata": {},
   "source": [
    "Write your answer here"
   ]
  },
  {
   "cell_type": "markdown",
   "metadata": {},
   "source": [
    "### 3c."
   ]
  },
  {
   "cell_type": "markdown",
   "metadata": {},
   "source": [
    "From the particle data group web page, state whether this decay has been observed for the cases of $\\ell=e$, $\\mu$ and $\\tau$ and if the decay has been observed, give the observed branching ratio and its uncertainy and the partial width for the decay."
   ]
  },
  {
   "cell_type": "markdown",
   "metadata": {},
   "source": [
    "Write your answer here"
   ]
  },
  {
   "cell_type": "markdown",
   "metadata": {},
   "source": [
    "## Question 4 Cabbibo Allowed and Cabbibo Suppressed Decays (26 points)"
   ]
  },
  {
   "cell_type": "markdown",
   "metadata": {},
   "source": [
    "### Learning objectives\n",
    "In this question you will:\n",
    "\n",
    "- Apply knowlege of $W$ Feynman diagrams and of the CKM matrix to calculate relative decay rates"
   ]
  },
  {
   "cell_type": "markdown",
   "metadata": {},
   "source": [
    "Estimate the relative rates for the following four decay modes of the $D^0(c\\overline{u})$ meson: $D^0 \\rightarrow K^-\\pi^+$, $D^0 \\rightarrow \\pi^-\\pi^+$, $D^0 \\rightarrow K^+\\pi^-$, $D^0 \\rightarrow K^+K^-$.  As part of your answer, draw Feynman diagrams involving $W$ bosons for each decay."
   ]
  },
  {
   "cell_type": "markdown",
   "metadata": {},
   "source": [
    "Write your answer here"
   ]
  }
 ],
 "metadata": {
  "kernelspec": {
   "display_name": "Python 3",
   "language": "python",
   "name": "python3"
  },
  "language_info": {
   "codemirror_mode": {
    "name": "ipython",
    "version": 3
   },
   "file_extension": ".py",
   "mimetype": "text/x-python",
   "name": "python",
   "nbconvert_exporter": "python",
   "pygments_lexer": "ipython3",
   "version": "3.8.6"
  }
 },
 "nbformat": 4,
 "nbformat_minor": 4
}
