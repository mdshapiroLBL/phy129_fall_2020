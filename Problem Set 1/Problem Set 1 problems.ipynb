{
  "nbformat": 4,
  "nbformat_minor": 0,
  "metadata": {
    "kernelspec": {
      "display_name": "Python [default]",
      "language": "python",
      "name": "python3"
    },
    "language_info": {
      "codemirror_mode": {
        "name": "ipython",
        "version": 3
      },
      "file_extension": ".py",
      "mimetype": "text/x-python",
      "name": "python",
      "nbconvert_exporter": "python",
      "pygments_lexer": "ipython3",
      "version": "3.6.8"
    },
    "colab": {
      "name": "Problem Set 1 problems.ipynb",
      "provenance": [],
      "toc_visible": true
    }
  },
  "cells": [
    {
      "cell_type": "markdown",
      "metadata": {
        "id": "naAnuth1-TXQ",
        "colab_type": "text"
      },
      "source": [
        "# Problem Set 1:  Due Friday Sept 4 11:59PM"
      ]
    },
    {
      "cell_type": "markdown",
      "metadata": {
        "id": "LEbqTRrN-TXT",
        "colab_type": "text"
      },
      "source": [
        "## Question 1: Natural Units"
      ]
    },
    {
      "cell_type": "markdown",
      "metadata": {
        "id": "f6EDnJYA_6UP",
        "colab_type": "text"
      },
      "source": [
        "### Learning objectives\n",
        "In this question you will:\n",
        "*   Become familiar with the system of natural units and learn how to express some standard observables in these units\n",
        "*   Explore how natural units guide our intuition when using effective field theories\n"
      ]
    },
    {
      "cell_type": "markdown",
      "metadata": {
        "id": "pAOdqM6w_o3v",
        "colab_type": "text"
      },
      "source": [
        "It is convenient to choose a set of units such that $\\hbar = c = 1$.  In such units, mass ($m$), momentum ($mc$) and energy ($mc^2$) are expressed in units of GeV and length ($\\hbar /mc$) and time ($\\hbar/mc^2$) are expressed in units of GeV$^{-1}$.\n"
      ]
    },
    {
      "cell_type": "markdown",
      "metadata": {
        "id": "fRgZu-1g_eSL",
        "colab_type": "text"
      },
      "source": [
        "### 1a."
      ]
    },
    {
      "cell_type": "markdown",
      "metadata": {
        "id": "c4HrnBi4BLb1",
        "colab_type": "text"
      },
      "source": [
        " Show that in these units, using $m$ to denote the mass of the electron:\n",
        "\n",
        "The Compton wavelength of an electron is: $m^{-1}$\n",
        "\n",
        "The Bohr radius of the hydrogen atom is: $(\\alpha m)^{-1}$\n",
        "\n",
        "The velocity of an electron in its lowest Bohr orbit is: $\\alpha$"
      ]
    },
    {
      "cell_type": "markdown",
      "metadata": {
        "id": "eFB5B0WI9_NQ",
        "colab_type": "text"
      },
      "source": [
        "Write your answer here."
      ]
    },
    {
      "cell_type": "markdown",
      "metadata": {
        "id": "XzdgqLvbFUoB",
        "colab_type": "text"
      },
      "source": [
        "### 1b."
      ]
    },
    {
      "cell_type": "markdown",
      "metadata": {
        "id": "g9OK3pVxBY-c",
        "colab_type": "text"
      },
      "source": [
        "In Classical Mechanics, the *Lagrangian* is a useful quantity that helps encapsulate the dynamics of a system via the Euler-Lagrange equations. In a classical system, the Lagrangian can often be expressed as $$ L = T - V$$ where $T$ is the kinetic energy of the system and $V$ is the potential energy of the system. The action, S, of a trajectory is defined as the integral of the Lagrangian with respect to time during the trajectory, i.e. $$ S = \\int L \\hspace{0.05in} dt $$\n",
        "\n",
        "**Find the dimensions of $S$ and $L$ in natural units. Hint: What are the units of $\\hbar$?**\n",
        "\n",
        "Now, according to special relativity, we should treat space and time on equal footing. In natural units, this is quite easy, since converting from one to the other amounts to multiplying or dividing by $c$, which we have set to 1. Thus, we should re-write the action as an integral over all four space-time dimensions. To do this, we introduce the *Lagrangian density* $\\mathcal{L}$, which is defined by: $$L = \\int \\mathcal{L \\hspace{0.05in}} d^3x $$\n",
        "\n",
        "**Rewrite the action in terms of the Lagrangian density. What are the dimensions of the Lagrangian density?**\n",
        "\n",
        "Note: In particle physics, the Lagrangian density is extremely important! In fact, it is so important that we often just called it \"the Lagrangian,\" making the distinction between $L$ and $\\mathcal{L}$ a matter of absolute confusion. Lucky us! Nonetheless, we will focus on the Lagrangian density $\\mathcal{L}$."
      ]
    },
    {
      "cell_type": "markdown",
      "metadata": {
        "id": "fovmY78w9-Oz",
        "colab_type": "text"
      },
      "source": [
        "Write your answer here."
      ]
    },
    {
      "cell_type": "markdown",
      "metadata": {
        "id": "nYME82xBFqug",
        "colab_type": "text"
      },
      "source": [
        "### 1c."
      ]
    },
    {
      "cell_type": "markdown",
      "metadata": {
        "id": "zhAfUiMAB1Yl",
        "colab_type": "text"
      },
      "source": [
        "In this course, we will later examine the equations governing relativistic particle dynamics in detail. For now, you will have to take them as a given. Recall that there exist two categories of elementary particles: fermions, with half-integer spin, and bosons, with integer spin. In particle physics, we take the perspective that particles are really excitations of fields which exist throughout all of space-time. Let's start with the simplest quantum field - a scalar field. At every point in space-time $x^\\mu$, this field takes on a real value, $\\phi(x^\\mu)$. Since this is a scalar field, and spin is a vector quantity, this field must represent a spin 0 particle, a so-called \"scalar boson.\" The Lagrangian of this field is: $$\\mathcal{L} = \\frac{1}{2}\\left(\\frac{\\partial\\phi}{\\partial t}\\right)^2 - \\frac{1}{2}(\\vec{\\nabla}\\phi)^2 -\\frac{1}{2} m^2\\phi^2 = \\frac{1}{2}\\eta^{\\mu\\nu}\\partial_\\mu\\phi\\partial_\\nu\\phi -\\frac{1}{2}m^2\\phi^2 $$.\n",
        "\n",
        "Here, $\\eta^{\\mu\\nu}$ is the Minkowski metric Diag\\{1,-1,-1,-1\\} and $\\mu,\\nu$ parameterize the 4 space-time indices over which we sum. **What are the dimensions of this scalar field? Use the Euler-Lagrange Equations to vary the action and find the equation of motion for this scalar field. What familiar partial differential equation does this look like?**\n",
        "\n",
        "The equation of motion you derived is known as the Klein-Gordon Equation. Fun fact: Schr\\\"odinger actually came up with this equation when he tried to make his theory relativistic, but he did not publish it!\n",
        "\n",
        "In contrast, fermions, which are required to have non-zero spin, are represented mathematically as \\textit{spinor} fields. This means that every point in space-time is associated with a 4-dimensional \"spinor,\" which is similar to a vector but with some particular transformation properties. The Lagrangian for fermions looks like this:\n",
        "\n",
        "$$\\mathcal{L} = i\\overline{\\psi}\\gamma^\\mu\\partial_\\mu\\psi - m\\overline{\\psi}{\\psi}$$\n",
        "\n",
        "Here, $\\gamma^\\mu$ is a set of 4 different $4\\times4$ matrices and the $\\mu$ represents the 4 space-time indices that we sum over. For our purposes, you can just treat them as unitless numbers. **What are the dimensions of this fermion field? Use the Euler-Lagrange equations to find the equation of motion for this fermion field. Hint: Vary the action with respect to $\\bar{\\psi}$ to give you an equation of motion for $\\psi$.**\n",
        "\n",
        "This equation of motion is known as the Dirac equation, and it is one of the more important equations in particle physics. We will explore this equation more in detail in the future!"
      ]
    },
    {
      "cell_type": "markdown",
      "metadata": {
        "id": "l3khxfb3-APr",
        "colab_type": "text"
      },
      "source": [
        "Write your answer here."
      ]
    },
    {
      "cell_type": "markdown",
      "metadata": {
        "id": "D1pXhjZL-ND_",
        "colab_type": "text"
      },
      "source": [
        "###1d."
      ]
    },
    {
      "cell_type": "markdown",
      "metadata": {
        "id": "8dC8FFDZ-Vfj",
        "colab_type": "text"
      },
      "source": [
        "Let us now explore a real particle interaction. We will start with what we call an \"effective field theory.\" At sufficiently low energies, this theory is sufficient to describe the interaction, however it breaks down at higher energies. The (arguably) most well-known example of an effective field theory is Fermi's Theory of Beta decay. In this theory, a neutron decays into a proton and an electron as well as a light, neutral electron *anti-neutrino.* See the corresponding Feynman diagram [here](https://https://www.quantumdiaries.org/wp-content/uploads/2011/10/fourFermi_BetaDecay.png).\n",
        "\n",
        "The Lagrangian for this interaction must be proportional to the product of the four fields. Here we use $u$ instead of $\\psi$ for the fields and notate the particle with a subscript. The Lagrangian must have the form:\n",
        "\n",
        "$$ \\mathcal{L} \\propto (\\overline{u}_p\\gamma_\\mu u_n)(\\overline{u}_e\\gamma^\\mu u_\\overline{\\nu})$$\n",
        "\n",
        "For now, the notation might feel unfamiliar, so let's break it down. We use $u$ and $\\overline{u}$ to represent the spinor fields of the fermions at play. *Spinor fields of incoming anti-particles and outgoing particles get bars over the $u$'s. Spinor fields of incoming particles and outgoing anti-particles do not get bars.* The subscripts $p, n, e, \\overline{\\nu}$ refer to the proton, neutron, electron, and anti-neutrino respectively. The $\\gamma$'s again refer to a set of 4 $\\times$ 4 matrices, and the $\\mu$ still represents the 4 space-time indices that we sum over. **Using what you know about fermion fields, what must the dimension of the constant of proportionality be in the Fermi theory?** This constant of proportionality is called the Fermi constant, and it is quite important in Weak interaction physics."
      ]
    },
    {
      "cell_type": "markdown",
      "metadata": {
        "id": "RoC1RVK2-RWs",
        "colab_type": "text"
      },
      "source": [
        "Write your answer here."
      ]
    },
    {
      "cell_type": "markdown",
      "metadata": {
        "colab_type": "text",
        "id": "UUtHtLcd-vOv"
      },
      "source": [
        "## Question 2: Navigating the Particle Data Group Web Pages"
      ]
    },
    {
      "cell_type": "markdown",
      "metadata": {
        "colab_type": "text",
        "id": "jaKIv9ZxDOsp"
      },
      "source": [
        "### Learning objectives\n",
        "In this question you will:\n",
        "\n",
        "- Explore the particle data group web pages and learn to learn what type of information is available\n",
        "- Learn some basic particle physics facts\n"
      ]
    },
    {
      "cell_type": "markdown",
      "metadata": {
        "id": "DLiYcmJ9Dj6I",
        "colab_type": "text"
      },
      "source": [
        "The Particle Data Group maintains an excellent web site with a compilation of useful information about particle physics.  This information is also available in printed form for free if you write to them. The PDG web address is:\n",
        "https://pdg.lbl.gov/index.html\n",
        "\n",
        "The following questions can be answered just by looking up information on these web pages.  They will familiarize you with the pages and also teach you some basic particle physics facts.  (**Hint**:  The first two questions can be answered by looking in the Summary Tables.  The third uses information from available from the page of Reviews, Tables and Plots)\n"
      ]
    },
    {
      "cell_type": "markdown",
      "metadata": {
        "id": "7CkqOeIQDxKO",
        "colab_type": "text"
      },
      "source": [
        "### 2a."
      ]
    },
    {
      "cell_type": "markdown",
      "metadata": {
        "id": "akLebvBHDGRq",
        "colab_type": "text"
      },
      "source": [
        "What are the masses of:\n",
        "- the lightest known meson\n",
        "- the lightest Spin 1 meson\n",
        "-  the lightest meson that carries a strangeness quantum number of 1?\n"
      ]
    },
    {
      "cell_type": "markdown",
      "metadata": {
        "id": "_SA80mZn-BQu",
        "colab_type": "text"
      },
      "source": [
        "Write your answer here."
      ]
    },
    {
      "cell_type": "markdown",
      "metadata": {
        "id": "_9hn5yKdEC1v",
        "colab_type": "text"
      },
      "source": [
        "### 2b."
      ]
    },
    {
      "cell_type": "markdown",
      "metadata": {
        "id": "9cPdslZeEHuR",
        "colab_type": "text"
      },
      "source": [
        "The $\\Lambda $ is a baryon that decays weakly. What is its mass and what is the lifetime of the $\\Lambda$?  What are the two most common decay modes of the $\\Lambda$ and fraction of the time does it decay into each of these two modes?\n"
      ]
    },
    {
      "cell_type": "markdown",
      "metadata": {
        "id": "44dOaM0k-Bwi",
        "colab_type": "text"
      },
      "source": [
        "Write your answer here."
      ]
    },
    {
      "cell_type": "markdown",
      "metadata": {
        "id": "QtPUfoZkEOuJ",
        "colab_type": "text"
      },
      "source": [
        "### 2c."
      ]
    },
    {
      "cell_type": "markdown",
      "metadata": {
        "id": "_TkcbOF9ESV0",
        "colab_type": "text"
      },
      "source": [
        "Consider the interaction $\\pi^+ p\\rightarrow \\pi^+p$ ($\\pi p$ elastic scattering).  What is the experimentally measured cross section for each of the following center-of-mass energies: 1.2 GeV, 3 GeV, 6 GeV?  How do these numbers compare to the total $\\pi^+ p$ cross section ($\\pi p \\rightarrow anything$) at each of these energies?\n"
      ]
    },
    {
      "cell_type": "markdown",
      "metadata": {
        "id": "opH3KtAH-CZm",
        "colab_type": "text"
      },
      "source": [
        "Write your answer here."
      ]
    },
    {
      "cell_type": "markdown",
      "metadata": {
        "colab_type": "text",
        "id": "ZgvM5weh-w3h"
      },
      "source": [
        "## Question 3: Easy as Pi"
      ]
    },
    {
      "cell_type": "markdown",
      "metadata": {
        "id": "5diZhSDj-TXV",
        "colab_type": "text"
      },
      "source": [
        "### Learning objectives\n",
        "In this question you will:\n",
        "- understand how Monte Carlo techniques can help answer questions"
      ]
    },
    {
      "cell_type": "markdown",
      "metadata": {
        "flags": [
          "problems",
          "solutions"
        ],
        "id": "Grb7n9W9-TXY",
        "colab_type": "text"
      },
      "source": [
        "\n",
        "\n",
        "Numerical approximation, integration, simulation, or optimization techniques relying on random sampling are known as _Monte Carlo_ methods, after the famous Monte Carlo Casino located in the tiny European principality of Monaco.\n",
        "\n",
        "Such _Monte Carlo_ methods are often used to approximate integrals—here we will explore a simple Monte Carlo algorithm to approximate the numerical value of an integral whose value we actually do know analytically (actually to trillions of digits!), to highlight how the method might be used, snd to confirm that it works as promised.\n",
        "\n",
        "Suppose we remember that $\\pi$ is defined as the ratio of the circumference of a circle to its diameter, but somehow we forgot the actual numerical value.  Or you can imagine we live in an alternative \"steampunk\" reality where computers were invented before the value of $\\pi$ had been ascertained, or we are in a society where the \"wrong\" value of pi has been legislated by a misguided government (this actually almost happened in Indiana in 1897), etc., and we are trying to convince them of their error.\n",
        "\n",
        "We can estimate the value of $\\pi$ via straightforward Monte Carlo sampling.  Imagine throwing darts uniformly at random at a square dartboard marked with an inscribed circle, while keeping track of the proportion of all darts hitting the square that also land inside the circle.\n",
        "\n"
      ]
    },
    {
      "cell_type": "markdown",
      "metadata": {
        "id": "S3HoHTNx-TXZ",
        "colab_type": "text"
      },
      "source": [
        "### 3a. "
      ]
    },
    {
      "cell_type": "markdown",
      "metadata": {
        "flags": [
          "problems",
          "solutions"
        ],
        "id": "I2ug1f7u-TXa",
        "colab_type": "text"
      },
      "source": [
        "If $n$ is the total number of throws hitting the square, and $k$ is the number which fall inside the circle, what is an obvious estimator for the value of $\\pi$?"
      ]
    },
    {
      "cell_type": "markdown",
      "metadata": {
        "id": "uPCDqSar-TXd",
        "colab_type": "text"
      },
      "source": [
        "Write your answer here"
      ]
    },
    {
      "cell_type": "markdown",
      "metadata": {
        "id": "POnpczjU-TXh",
        "colab_type": "text"
      },
      "source": [
        "### 3b. "
      ]
    },
    {
      "cell_type": "markdown",
      "metadata": {
        "flags": [
          "problems",
          "solutions"
        ],
        "id": "l_dNpHRR-TXj",
        "colab_type": "text"
      },
      "source": [
        "\n",
        "\n",
        "And what is the expected root-mean-square (RMS) error in this estimate?\n",
        "\n"
      ]
    },
    {
      "cell_type": "markdown",
      "metadata": {
        "id": "AwmHIj0S-TXk",
        "colab_type": "text"
      },
      "source": [
        "Write your answer here"
      ]
    },
    {
      "cell_type": "markdown",
      "metadata": {
        "id": "UiI-dQzq-TXl",
        "colab_type": "text"
      },
      "source": [
        "### 3c. "
      ]
    },
    {
      "cell_type": "markdown",
      "metadata": {
        "flags": [
          "problems",
          "solutions"
        ],
        "id": "7eHYWv6p-TXm",
        "colab_type": "text"
      },
      "source": [
        "\n",
        "\n",
        "Based on this idea, write code to approximate the value of $\\pi$ for samples sizes in the range $1 \\le n \\le 100\\,000\\,000$ (in reasonable increments). Plot both the predicted RMS error bounds and the actual sample errors (based on the true value of $\\pi$, we we secretly know) over $n$. Repeat these calculations (plotting in different colors) starting from $10$ different initial random seeds.\n",
        "HINT:  To avoid some unnecessary arithmetic, you may want to look at just one quadrant of the square and inscribed circle.\n",
        "\n"
      ]
    },
    {
      "cell_type": "code",
      "metadata": {
        "id": "-fVmGHb0-TXo",
        "colab_type": "code",
        "colab": {}
      },
      "source": [
        "#Write your answer here"
      ],
      "execution_count": null,
      "outputs": []
    },
    {
      "cell_type": "markdown",
      "metadata": {
        "id": "XusJSGOX-TXv",
        "colab_type": "text"
      },
      "source": [
        "### 3d. "
      ]
    },
    {
      "cell_type": "markdown",
      "metadata": {
        "flags": [
          "problems",
          "solutions"
        ],
        "id": "EEqzEyDP-TXw",
        "colab_type": "text"
      },
      "source": [
        "\n",
        "Suppose you wanted to determine $\\pi$ with $0.1\\%$ accuracy (at a $99\\%$ confidence).  Roughly estimate the total time required of your Monte Carlo method. "
      ]
    },
    {
      "cell_type": "markdown",
      "metadata": {
        "id": "dBv00WS_-TXy",
        "colab_type": "text"
      },
      "source": [
        "Write your answer here"
      ]
    },
    {
      "cell_type": "markdown",
      "metadata": {
        "id": "ptCAdK-L-TX0",
        "colab_type": "text"
      },
      "source": [
        "## Question 4: Transformation methods"
      ]
    },
    {
      "cell_type": "markdown",
      "metadata": {
        "id": "Blp2IhSf-TX1",
        "colab_type": "text"
      },
      "source": [
        "### Learning objectives\n",
        "In this question you will:\n",
        "\n",
        "- understand how probability distributions transform under a change of variables\n",
        "- learn how to sample from arbitrary distributions\n",
        "- create an estimator and evaluate its accuracy\n"
      ]
    },
    {
      "cell_type": "markdown",
      "metadata": {
        "flags": [
          "problems",
          "solutions",
          "problems with bayes",
          "solutions with bayes"
        ],
        "id": "UnRa5aNN-TX1",
        "colab_type": "text"
      },
      "source": [
        "Suppose $x$ is a random variable with probability density function (PDF) $f(x)$, such that the probability of finding $x$ in any interval $[a,b]$ is given by\n",
        "$$\n",
        "P( a \\le x \\le b) = \\int\\limits_{a}^{b} \\! f(x) \\, dx.\n",
        "$$\n",
        "Any function $y = \\phi(x)$ of $x$ is also a random variable, which must inherit its statistical properties from $x$, but filtered through the functional transformation.\n",
        "\n",
        "Specifically, suppose that $\\phi(x)$ is a smooth and invertible function, so that $x$ uniquely determines the corresponding value of $y$, or vice versa, and small changes to $x$ lead smoothly to small changes in the value of $y$, or conversely.\n",
        "\n",
        "Then the probability density function, say $g(y)$, for $y$ may be related to $f(x)$ by demanding that probabilities for $x$ falling in a small interval, and $y$ falling in the corresponding interval, are in fact equal:\n",
        "$$\n",
        "g(y)\\,  | dy | = f(x) \\, | dx | ,\n",
        "$$\n",
        "or\n",
        "$$\n",
        "f(x) = g(y) \\, \\left|\\tfrac{dy}{dx} \\right| = g\\bigl( \\phi(x) \\bigr)  \\left|\\tfrac{d\\phi(x)}{dx} \\right|,\n",
        "$$\n",
        "where $y = \\phi(x)$ or $x = \\phi^{-1}(y)$.\n",
        "\n",
        "Equivalently, we can relate the corresponding cumulative distribution functions (CDFs), defined by\n",
        "$$\n",
        "F(u) = P( x \\le u ) = \\int\\limits_{-\\infty}^{u} \\!  f(x) \\, dx,\n",
        "$$\n",
        "and\n",
        "$$\n",
        "G(\\xi) = P( y \\le \\xi) = \\int\\limits_{-\\infty}^{\\xi} \\!  g(y) \\, dy.\n",
        "$$\n",
        "Since $y = \\phi(x)$ is invertible, it must be strictly monotonic.  Assuming $\\phi(x)$ is increasing, the CDFs must be related by\n",
        "$$\n",
        "G(y) = F\\bigl(  \\phi^{-1}(y)  \\bigr) = F(x),\n",
        "$$\n",
        "or\n",
        "$$\n",
        "F(x) = G\\bigl( \\phi(x) \\bigr) = G(y).\n",
        "$$\n",
        "If instead $\\phi(x)$ is decreasing rather than increasing, then\n",
        "$$\n",
        "G(y) = 1-F\\bigl(  \\phi^{-1}(y) \\bigr) = 1 - F(x),\n",
        "$$\n",
        "or\n",
        "$$\n",
        "F(x) = 1-G\\bigl( \\phi(x) \\bigr) = 1 - G(y).\n",
        "$$\n",
        "\n",
        "So, in order to generate random deviates $x$ with specified probability distribution $f(x)$, we can sometimes start with a random variable $x$ with distribution $x$, and then use an appropriate change of variable $x = \\phi^{-1}(y)$.\n",
        "\n",
        "<div style=\"width: 500px;margin: auto\" align=\"center\">\n",
        "    <img src=\"https://github.com/mdshapiroLBL/phy129_fall_2020_staging/blob/master/Problem%20Set%201/transformation.png?raw=1\">\n",
        "    Illustration of the transformation method, generating pseudo-random deviates $x$ drawn from $f(x) = \\tfrac{d}{dx} F(x)$ starting with uniform deviates $y$ on $[0,1)$.\n",
        "</div>\n",
        "\n",
        "In particular, suppose $y$ is uniformly distributed over the interval $[0,1)$, so the corresponding normalized pdf is \n",
        "$$\n",
        "g(y) = \\begin{cases}\n",
        "1 &\\text{ if } 0 \\le y < 1 \\\\\n",
        "0 &\\text{ otherwise}\n",
        "\\end{cases},\n",
        "$$\n",
        "and the associated CDF is \n",
        "$$\n",
        "G(y) = \\begin{cases}\n",
        "0 &\\text{ if } y \\le 0     \\\\\n",
        "y &\\text{ if } 0 < y < 1 \\\\\n",
        "1 &\\text{ if } y \\ge 1 \n",
        "\\end{cases}.\n",
        "$$\n",
        "Many pseudo-random number generators output just such uniform deviates (to a good approximation).\n",
        "\n",
        "To instead generate random deviates with the CDF $F(x)$, we can select $y$ uniformly at random in $[0,1)$, and then calculate $x$ using the inverse CDF, $x = F^{-1}(y)$.  That is to say, we draw a cumulative probability $y$ for $x$ uniformly at random, then find that value of $x$ corresponding to this probability.  Since the CDF $F(x)$ must be real, nonnegative, and non-decreasing, and strictly increasing when, by assumption, $y = \\phi(x)$ is strictly monotonic, the function $G(y)$ will be invertible in principle.  The challenge in practice is usually to find an efficient way to calculate the inverse numerically.  \n",
        "\n",
        "To see why this simple _transformation_ trick works, refer to the figure above, and  notice that, by construction, $g(y) = 1$ over the relevant range and $y = F(x)$, so \n",
        "$g(y) \\,\\left| \\tfrac{dy}{dx} \\right|= 1\\cdot \\left| f(x) \\right| = f(x)$, as desired.\n",
        "\n",
        "Equivalently, we can think directly about the corresponding CDFs. By construction, $G(y) = y = F(x)$ under this assignment, which is just what we want if e presume a monotonically increasing functional relation $y = \\phi(x)$.  If instead $\\phi(x)$ were decreasing, strictly speaking we should calculate $F^{-1}(1-y)$, but $y$ and $(1-y)$ are governed by the same uniform distribution, so we can actually use $x = F^{-1}(y)$ in either case.\n",
        "\n",
        "This transformation approach can be extended to handle multi-dimensional variates, and even non-invertible mappings, provided that we can sum over all branches that get us to a given interval in $x$."
      ]
    },
    {
      "cell_type": "markdown",
      "metadata": {
        "id": "MYm-bsY7-TX3",
        "colab_type": "text"
      },
      "source": [
        "### 4a. "
      ]
    },
    {
      "cell_type": "markdown",
      "metadata": {
        "flags": [
          "problems",
          "solutions",
          "problems with bayes",
          "solutions with bayes"
        ],
        "id": "NxChDnTR-TX3",
        "colab_type": "text"
      },
      "source": [
        "Suppose we want to simulate an experiment where we monitor collisions of proteins in some solution, in which individual collisions can be detected by, say, fluorescence effects.\n",
        "\n",
        "The times between collisions are unpredictable from macroscopic information, and if memory-less, will be described probabilistically by some exponential distribution of the form:\n",
        "$$\n",
        "f(t)  = \\frac{e^{-t/\\tau}}{\\tau},\n",
        "$$\n",
        "where $t$ (satisfying $0 \\le t < \\infty$) is the time since the start of the current observation window (usually the time since the last collision), and $\\tau$ is the mean time between collisions.\n",
        "\n",
        "For simplicity, ignore here any false positive or false negative events, supposing collisions can be reliably and unambiguously detected, and suppose that the collision times, though stochastic, can be observed and recorded with negligible measurement error.   (More realistic assumptions regarding detector efficiency and performance could be added later, along with effects arising from additional uncertainty about, say, the number of molecules in the system, or the recorded times of collisions).\n",
        "\n",
        "Find a transformation rule which, starting with uniform deviates on $[0,1)$, generates exponentially distributed deviates."
      ]
    },
    {
      "cell_type": "markdown",
      "metadata": {
        "id": "3rwdI3KE-TX6",
        "colab_type": "text"
      },
      "source": [
        "Write your answer here"
      ]
    },
    {
      "cell_type": "markdown",
      "metadata": {
        "id": "B943hDf8-TX8",
        "colab_type": "text"
      },
      "source": [
        "### 4b. "
      ]
    },
    {
      "cell_type": "markdown",
      "metadata": {
        "flags": [
          "problems",
          "solutions",
          "problems with bayes",
          "solutions with bayes"
        ],
        "id": "Ipkaj3hV-TX9",
        "colab_type": "text"
      },
      "source": [
        "Using your transformation method, formulate a routine to simulate of the successive times $t_1, t_2, \\dotsc$ of decay events, as measured from some arbitrary start time at $t = 0$ upto some end time at $t=T$.\n",
        "\n",
        "NOTE:  we are seeking a simulation of the collision times, not the inter-collision intervals.  Obviously, these are closely related."
      ]
    },
    {
      "cell_type": "code",
      "metadata": {
        "id": "z2pncSmU-TX-",
        "colab_type": "code",
        "colab": {}
      },
      "source": [
        "#Write your answer here"
      ],
      "execution_count": null,
      "outputs": []
    },
    {
      "cell_type": "markdown",
      "metadata": {
        "id": "IBwYbgDk-TYE",
        "colab_type": "text"
      },
      "source": [
        "### 4c. "
      ]
    },
    {
      "cell_type": "markdown",
      "metadata": {
        "flags": [
          "problems",
          "solutions",
          "problems with bayes",
          "solutions with bayes"
        ],
        "id": "xwSpgH8H-TYE",
        "colab_type": "text"
      },
      "source": [
        "Use your code to simulate an experiment where, unbeknownst to the experimenter, the collision time turns out to be $\\tau = 0.25$.  The system is monitored for a fixed (and known) observation time $T = 500$, and the times (assumed to be measured with negligible error) of any collisions in this window are observed and recorded.\n",
        "\n",
        "The goal is to _estimate_ the unknown mean time $\\tau$ between collisions.  Choose an appropriate estimator for $\\tau$ that can be evaluated from the data available to the experimenter.\n",
        "\n",
        "Simulate $n = 10\\,000$ repetitions of the experiment, and plot a histogram of the resulting estimates, also calculating an RMS error.  How does this error compare to the uncertainty that the experimenter might estimate (from an observed data set, without knowing the true value of $\\tau$)?"
      ]
    },
    {
      "cell_type": "code",
      "metadata": {
        "id": "zYw7P-2z-TYF",
        "colab_type": "code",
        "colab": {}
      },
      "source": [
        "#Write your answer here"
      ],
      "execution_count": null,
      "outputs": []
    }
  ]
}