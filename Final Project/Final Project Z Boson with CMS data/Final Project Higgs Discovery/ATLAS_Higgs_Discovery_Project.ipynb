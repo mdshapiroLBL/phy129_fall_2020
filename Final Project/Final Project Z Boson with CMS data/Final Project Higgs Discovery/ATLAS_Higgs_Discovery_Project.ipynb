{
 "cells": [
  {
   "cell_type": "markdown",
   "metadata": {},
   "source": [
    "# Physics 129 Final Project #1"
   ]
  },
  {
   "cell_type": "markdown",
   "metadata": {},
   "source": [
    "# Discovery of the Higgs Boson using ATLAS Data"
   ]
  },
  {
   "cell_type": "markdown",
   "metadata": {},
   "source": [
    "## Introduction"
   ]
  },
  {
   "cell_type": "markdown",
   "metadata": {},
   "source": [
    "The discovery of the Higgs Boson was announced simultaneously by the ATLAS and CMS collaborations on July 4, 2012.  This project will focus on one of the channels used by ATLAS for this discovery:  $h\\rightarrow \\gamma \\gamma$.  \n",
    "\n",
    "ATLAS is a general-purpose detector at the Large Hadron Collider (LHC). It has a broad physics programme ranging from studying the Standard Model (including the Higgs boson) to searching for extra dimensions and particles that could make up dark matter. Although it has the same scientific goals as the CMS experiment, it uses different technical solutions and a different magnet-system design.\n",
    "\n",
    "A schematic picture of ATLAS is provided below."
   ]
  },
  {
   "cell_type": "markdown",
   "metadata": {},
   "source": [
    "<img src=\"ATLAS.png\" alt=\"Drawing\" style=\"width: 600px;\"/>"
   ]
  },
  {
   "cell_type": "markdown",
   "metadata": {},
   "source": [
    "## Goals"
   ]
  },
  {
   "cell_type": "markdown",
   "metadata": {},
   "source": [
    "The goal of this project is to find the mass peak corresponding to the Higgs boson using the ATLAS data.  The strategy for doing this measurement is described in Section 5 of the ATLAS Higgs discovery paper https://arxiv.org/pdf/1207.7214.pdf   You should read this section carefully and use it as a guide for your analysis."
   ]
  },
  {
   "cell_type": "markdown",
   "metadata": {},
   "source": [
    "## The Dataset"
   ]
  },
  {
   "cell_type": "markdown",
   "metadata": {},
   "source": [
    "The data used for the Higgs discovery consisted of  4.8 fb$^{−1}$ collected at $\\sqrt{s}=7$ TeV in 2011 and 5.8 fb$^{−1}$ at $\\sqrt{s}=8$ TeV in 2012.  All events passing a final selection (described in the discovery paper) containing two photon candidates passing the final event and photon selection are contained in two files: Higgs2011.csv and Higgs2012.csv.  These files can be read using the python code below:"
   ]
  },
  {
   "cell_type": "code",
   "execution_count": 6,
   "metadata": {},
   "outputs": [
    {
     "name": "stdout",
     "output_type": "stream",
     "text": [
      "#\n",
      "# This file contains data used in  the ATLAS Higgs discovery paper https://arxiv.org/pdf/1207.7214.pdf\n",
      "# These data are the diphoton candidates from the 2011 7 TeV data taking period\n",
      "# For each event, the following information is provided\n",
      "#vtx_z:  The z-positon of the pp interaction in mm (center of detector is 0,0,0)\n",
      "#invariant_mass:  The diphoton invariant mass in GeV\n",
      "#ph_pt_leading:  Transverse momentum (in GeV)  of the highest pT photon in the event\n",
      "#ph_pt_subleading: Transverse momentum (in GeV)  of the next to highest pT photon in the event\n",
      "#ph_eta_corrected_leading: Pseudorapidity of the highest pT photon in the event\n",
      "#ph_eta_corrected_subleading: Pseudorapidity of the next to highest pT photon in the event\n",
      "#ph_phi_leading: Phi of the highest pT photon in the event\n",
      "#ph_phi_subleading: Phi of the next to highest pT photon in the event\n",
      "#categ_Model10Categories: Category of the event where the category is defined in Section 5.3 of the discovery paper. Categories are labeled 1 through 10\n",
      "#\n"
     ]
    }
   ],
   "source": [
    "import math\n",
    "import numpy as np\n",
    "import matplotlib.pyplot as plt\n",
    "from scipy.optimize import curve_fit\n",
    "\n",
    "# Parse the input file.  You can change to the other file by uncommenting the second line\n",
    "file = \"Higgs2011.csv\"\n",
    "#file = \"Higgs2012.csv\"\n",
    "\n",
    "vtx_z = []\n",
    "invariant_mass = []\n",
    "ph_pt_leading = []\n",
    "ph_pt_subleading = []\n",
    "ph_eta_corrected_leading = []\n",
    "ph_eta_corrected_subleading = []\n",
    "ph_phi_leading = []\n",
    "ph_phi_subleading = []\n",
    "categ_Model10Categories = [] \n",
    "\n",
    "\n",
    "for line in open(file,\"r\"):\n",
    "    line = line.strip()\n",
    "    if line[0]==\"#\":\n",
    "        print(line)\n",
    "        continue\n",
    "    info = line.split(\",\")\n",
    "    vtx_z.append(info[0])\n",
    "    invariant_mass.append(info[1])\n",
    "    ph_pt_leading.append(info[2])\n",
    "    ph_pt_subleading.append(info[3])\n",
    "    ph_eta_corrected_leading.append(info[4])\n",
    "    ph_eta_corrected_subleading.append(info[5])\n",
    "    ph_phi_leading.append(info[6])\n",
    "    ph_phi_subleading.append(info[7])\n",
    "    categ_Model10Categories.append(info[8])"
   ]
  },
  {
   "cell_type": "markdown",
   "metadata": {},
   "source": [
    "For those of you who prefer to do your analysis using root, the same data are also available in files Higgs1011.root and Higgs2012.root (warning: the ntuple and branch names differ between the 2011 and 2012 data files).\n",
    "\n",
    "For this project, you will only need to use the invariant mass and category for each event.  The other variables are provided in case you want to explore further."
   ]
  },
  {
   "cell_type": "markdown",
   "metadata": {},
   "source": [
    "As a starting point, verify that you can reproduce the number of candidate events in each category and for each year in Table 4 of the Higgs discovery paper"
   ]
  },
  {
   "cell_type": "markdown",
   "metadata": {},
   "source": [
    "Now, you are free to perform your analysis as you wish.  You will find that the signal significance is greatly improved if you analyse each category separately and combine the reults.  For this analysis, uou should use as input the expected width of the Higgs mass peak in each category."
   ]
  }
 ],
 "metadata": {
  "kernelspec": {
   "display_name": "Python 3",
   "language": "python",
   "name": "python3"
  },
  "language_info": {
   "codemirror_mode": {
    "name": "ipython",
    "version": 3
   },
   "file_extension": ".py",
   "mimetype": "text/x-python",
   "name": "python",
   "nbconvert_exporter": "python",
   "pygments_lexer": "ipython3",
   "version": "3.7.4"
  }
 },
 "nbformat": 4,
 "nbformat_minor": 4
}
