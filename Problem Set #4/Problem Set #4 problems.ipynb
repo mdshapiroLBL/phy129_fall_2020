{
 "cells": [
  {
   "cell_type": "markdown",
   "metadata": {},
   "source": [
    "# Problem Set #4 problems"
   ]
  },
  {
   "cell_type": "markdown",
   "metadata": {},
   "source": [
    "## Question 1: Likelihood Fits, Statistical Methods (40 points)"
   ]
  },
  {
   "cell_type": "markdown",
   "metadata": {},
   "source": [
    "### Learning objectives\n",
    "In this question you will:\n",
    "\n",
    "- Construct a likelihood function for a probability distribution with one free parameter\n",
    "- Determine the best fit value of the parameter and estimate its uncertainty both by graphing the likelihood function and using a standard minimization package\n"
   ]
  },
  {
   "cell_type": "markdown",
   "metadata": {
    "flags": [
     "problems",
     "solutions"
    ]
   },
   "source": [
    "Consider the problem of determining the lifetime of a species of particle that we can stop in our detector by observing its decays. Assume each time a particle stops, we set the stopping time to be $t=0$ and that we only observe decays that occur up to a time $T_{max}$ after the particle stops.  The distribution of measured times therefore follows the form:\n",
    "\n",
    "\\begin{eqnarray*}\n",
    "R(t) & =  R_0 e^{-\\Gamma t} & \\qquad \\qquad 0 \\le t \\le T_{max} \\\\\n",
    "     & =  0 &\\qquad \\qquad {\\rm otherwise}\n",
    "\\end{eqnarray*}\n",
    "\n",
    "For this problem, we'll take as the true decay parameter $\\Gamma=2\\ \\mathrm{sec}^{-1}$ and maximum time that we wait for a decay to be $T_{max}=3$ sec. We can imagine doing the experiment over many times (each experiment takes three seconds) to accumulate a lot of data."
   ]
  },
  {
   "cell_type": "markdown",
   "metadata": {},
   "source": [
    "### 1a. "
   ]
  },
  {
   "cell_type": "markdown",
   "metadata": {
    "flags": [
     "problems",
     "solutions"
    ]
   },
   "source": [
    "First, let's generate some fake data. Generate 1000 decay times that follow the formula above.  (Hint:  use numpy.random.exponential and reject events with decay times larger than $T_{max}$.  Verify that your event generation looks reasonable by making a histogram of the decay times."
   ]
  },
  {
   "cell_type": "code",
   "execution_count": 1,
   "metadata": {
    "flags": [
     "problems",
     "solutions"
    ]
   },
   "outputs": [],
   "source": [
    "#Write import math\n",
    "import numpy as np\n",
    "import random\n",
    "import matplotlib.pyplot as plt\n",
    "from scipy.optimize import minimize\n",
    "\n",
    "def makeData( Gamma, Tmax, nDecays ):\n",
    "    \"\"\"Generates a dataset of decay times.  The distribution of events follows an exponential with \n",
    "    decay parameter Gamma, but where the decays are cut-off after time Tmax\n",
    "    \n",
    "    Parameters\n",
    "    ==========\n",
    "    Gamma : float\n",
    "      decay parameter of the exponential distribution\n",
    "      \n",
    "    Tmax : float\n",
    "      maximum decay time that can be generated in the dataset\n",
    "      \n",
    "    nDecays : int\n",
    "      number of decay times to generate\n",
    "      \n",
    "    Returns\n",
    "    =======\n",
    "    decayTimes : array\n",
    "      nDecays number of decay times generated according to the exponential distribution with decay\n",
    "      parameter gamma and maximum decay time Tmax\n",
    "    \"\"\"\n",
    "    \n",
    "    # Make an array to hold the decay times\n",
    "    decayTimes = np.zeros(nDecays)\n",
    "    \n",
    "    '''Your code here'''\n",
    "    \n",
    "    return decayTimes\n",
    "\n",
    "# Run your function and put plotting code here"
   ]
  },
  {
   "cell_type": "code",
   "execution_count": null,
   "metadata": {},
   "outputs": [],
   "source": [
    "#Write your answer here"
   ]
  },
  {
   "cell_type": "markdown",
   "metadata": {},
   "source": [
    "### 1b. "
   ]
  },
  {
   "cell_type": "markdown",
   "metadata": {
    "flags": [
     "problems",
     "solutions"
    ]
   },
   "source": [
    "Calculate the negative log-likelihood function, $-\\ln {\\cal L}$, for your data.  Express your likelihood in terms of the free parameters, $\\Gamma$.\n",
    "\n",
    "Hint: your pdf for the expected distribution of decay times $f(t) $ is an exponental that only extends to $t_{max}$ so:\n",
    "$$\n",
    "\\int_0^{t_{max}}f(t)dt = \\int_0^{t_{max}} R_0 e^{-\\Gamma t} dt = 1\n",
    "$$"
   ]
  },
  {
   "cell_type": "markdown",
   "metadata": {},
   "source": [
    "Write your answer here"
   ]
  },
  {
   "cell_type": "markdown",
   "metadata": {},
   "source": [
    "### 1c. "
   ]
  },
  {
   "cell_type": "markdown",
   "metadata": {
    "flags": [
     "problems",
     "solutions"
    ]
   },
   "source": [
    "We will study the simulated data, pretending that we dont know what value of $\\Gamma$ was used to generate it.  We want to find the best estimate of $\\Gamma$ from the data. \n",
    "\n",
    "We saw in class that for high statistics $-2\\ln {\\cal L}$ is  distributed like a $\\chi^2$ distribution and the uncertainty on the estimate of a parameter of the function can be obtained by finding how much the you can change the parameter to increase $-2\\ln {\\cal L}$ by 1. \n",
    "Write code to calculate the negative log-likelihood:\n",
    "$$\n",
    "- 2 \\ln {\\cal L} = -2 \\sum_i \\ln f(\\Gamma, t_i)\n",
    "$$\n",
    "where the $t_i$ are the time values you generated.  Using this code, find the value of $-2\\ln {\\cal L}$ for $\\Gamma - \\Gamma_{true}$."
   ]
  },
  {
   "cell_type": "code",
   "execution_count": 3,
   "metadata": {
    "flags": [
     "problems",
     "solutions"
    ]
   },
   "outputs": [],
   "source": [
    "def minusloglikelihoodFn(Gamma, maxT, decayTimes):\n",
    "    \"\"\"calculates the -ln(Likelihood) for the decayTimes for specified values of maxT and Gamma\n",
    "    \n",
    "    Parameters\n",
    "    ==========\n",
    "    Gamma : float\n",
    "      hypothesis for lifetime\n",
    "      \n",
    "    Tmax : float\n",
    "      maximum time for observation\n",
    "      \n",
    "    nDecays : array\n",
    "      a dataset of decay times generated according to the distribution described above\n",
    "      \n",
    "    Returns\n",
    "    =======\n",
    "    minusLogLikelihood : float\n",
    "      -ln(Likelihood) given the hypothesized Gamma and maxT for the input data\n",
    "    \"\"\"  \n",
    "    minusLogLikelihood = 0.0\n",
    "    \n",
    "    '''Your code here'''\n",
    "\n",
    "    return minusLogLikelihood"
   ]
  },
  {
   "cell_type": "code",
   "execution_count": null,
   "metadata": {},
   "outputs": [],
   "source": [
    "#Write your answer here"
   ]
  },
  {
   "cell_type": "markdown",
   "metadata": {},
   "source": [
    "### 1d. "
   ]
  },
  {
   "cell_type": "markdown",
   "metadata": {
    "flags": [
     "problems",
     "solutions"
    ]
   },
   "source": [
    "There are lots of algorithms for finding the  minimum of a non-linear function such as our negative log-likelihood,  but we won't bother to use any of these algorithms for yet.  Instead, we will explore the minimum by inspecting the behavour of the function. Plot the value of $-\\ln {\\cal L}$ you obtain from your simulated data as you vary $\\Gamma$ in the region  of the true answer ($\\Gamma=2$).  How close is the $\\Gamma $ that gives minimum negative log-likelihood  to the true value of $\\Gamma$?  Estimate the uncertainty on your estimate of $\\Gamma$ by finding the values corresponding to an increase of ${\\cal L}$ of 1.0"
   ]
  },
  {
   "cell_type": "code",
   "execution_count": 5,
   "metadata": {
    "flags": [
     "problems",
     "solutions"
    ]
   },
   "outputs": [],
   "source": [
    "ngrid=100 # How many points to scan\n",
    "G = np.arange(1.75,2.25,0.5/ngrid)  #The gamma values to scan\n",
    "LLG = np.zeros(ngrid)               #The likelihood for these values\n",
    "\n",
    "# Your code here"
   ]
  },
  {
   "cell_type": "code",
   "execution_count": null,
   "metadata": {},
   "outputs": [],
   "source": [
    "#Write your answer here"
   ]
  },
  {
   "cell_type": "markdown",
   "metadata": {},
   "source": [
    "### 1e. "
   ]
  },
  {
   "cell_type": "markdown",
   "metadata": {
    "flags": [
     "problems",
     "solutions"
    ]
   },
   "source": [
    "While this graphical method of finding the minimum works well for simple cases, we often will use a minimization package instead.  Using the data you have already created, pick your favorite minimization package and see if it finds the right minimum and whether the uncertainty it returns agrees with your estimate above. \n",
    "\n",
    "Hint:  The uncertainty on the fitted minumum can be estimated by taking the square root of the inverse Hessian of the likelihood function ${\\cal L(x|{\\bf \\alpha}}$ where $x$ are the observed values of the measurements and ${\\bf \\alpha} = (\\alpha_0, \\alpha_1, ...)$ are the parameters to be fit.  The Hessian is defined as\n",
    "$$\n",
    "H({\\bf \\alpha}) = \\frac{\\partial^2}{\\partial \\alpha_i\\partial \\alpha_j}\n",
    "$$\n",
    "One example of a minimization package that returns the inverse Hessian is [*scipy.optimize.minimize*](https://docs.scipy.org/doc/scipy/reference/generated/scipy.optimize.minimize.html) using the 'BFGS' method."
   ]
  },
  {
   "cell_type": "code",
   "execution_count": 7,
   "metadata": {
    "flags": [
     "problems",
     "solutions"
    ]
   },
   "outputs": [],
   "source": [
    "from scipy.optimize import minimize\n",
    "\n",
    "# Your code here"
   ]
  },
  {
   "cell_type": "code",
   "execution_count": null,
   "metadata": {},
   "outputs": [],
   "source": [
    "#Write your answer here"
   ]
  },
  {
   "cell_type": "markdown",
   "metadata": {},
   "source": [
    "### 1f. "
   ]
  },
  {
   "cell_type": "markdown",
   "metadata": {
    "flags": [
     "problems",
     "solutions"
    ]
   },
   "source": [
    "To verify your estimate of the uncertainty on the measured value of $\\Gamma$, generate 100 samples each with 1000 events.  Histogram the estimated $\\Gamma$ for these samples and find the rms of the \"measurements.\"  How does this rms compare to your answers above?"
   ]
  },
  {
   "cell_type": "code",
   "execution_count": null,
   "metadata": {},
   "outputs": [],
   "source": [
    "#Write your answer here"
   ]
  },
  {
   "cell_type": "markdown",
   "metadata": {},
   "source": [
    "## Question 2: Noether's Theorem (20 points)"
   ]
  },
  {
   "cell_type": "markdown",
   "metadata": {},
   "source": [
    "### Learning objectives\n",
    "In this question you will:\n",
    "\n",
    "- Review the meaning of Noether's theorem\n",
    "- Apply Noether's theorm to a non-relativistic quantum mechanical example "
   ]
  },
  {
   "cell_type": "markdown",
   "metadata": {},
   "source": [
    "In non-relativistic quantum mechanics, we learned that if an operator commutes with the Hamiltonian, the expectation value of that operator is a conserved quantity.  The same concept holds in relativistic quantum mechanics but is expressed using Lagrangian language.  The Lagrangian can be expressed as $$ L = T - V$$ where $T$ is the kinetic energy of the system and $V$ is the potential energy of the system. The action, S, of a trajectory is defined as the integral of the Lagrangian with respect to time during the trajectory, i.e. $$ S = \\int L \\hspace{0.05in} dt $$.\n",
    "\n",
    "Noether's theorem tells us that for every symmetry of the action there is a conserved quantum number.\n",
    "\n",
    "Consider the following example for the case of non-relativisitic quantum mechanics.  A particle with spin-$/frac{1}{2}$ and magnetic moment $\\vec \\mu = g\\frac{q}{2m} \\vec S$ where $q$ is the charge of the particle and $\\vec S$ is the spin is placed in a constant magnetic field in the $z$-direction $\\vec B = B_0 \\hat z$.  The Lagrangian is therefore\n",
    "$$\n",
    "L = \\frac{\\left ( \\vec p \\right ) ^2}{2m}  + \\vec \\mu \\cdot B\n",
    "$$\n",
    "Which of the following are conserved quantities:\n",
    "- (a) $p_x$, the $x$-component of the momentum\n",
    "- (b) $p_z$, the $z$-component of the momentum\n",
    "- (c) $S_x$, the $x$-component of the spin\n",
    "- (d) $S_z$, the $z$-component of the spin\n",
    "- (e) $\\vec S^2$ the magnitude of the spin-squared operator"
   ]
  },
  {
   "cell_type": "markdown",
   "metadata": {},
   "source": [
    "Write your answer here"
   ]
  },
  {
   "cell_type": "markdown",
   "metadata": {},
   "source": [
    "## Question 3: Parity Properties of Various Operators (10 points)"
   ]
  },
  {
   "cell_type": "markdown",
   "metadata": {},
   "source": [
    "### Learning objectives\n",
    "In this question you will:\n",
    "\n",
    "- Review the meaning of the terms vector, axial vector, scalar and pseudoscalar and determine the parity property of several operators"
   ]
  },
  {
   "cell_type": "markdown",
   "metadata": {},
   "source": [
    "We saw in class that operators could be classified according to their properties under the parity operator.  Vector operators change sign under parity\n",
    "\n",
    "$$\n",
    "{\\bf P}\\; \\vec r \\; {\\bf P}^\\dagger \\rightarrow - \\vec r\n",
    "$$\n",
    "\n",
    "while axial vectors do not:\n",
    "\n",
    "$$\n",
    "{\\bf P }\\;\\vec L \\; {\\bf P } ^\\dagger \\rightarrow + \\vec L\n",
    "$$\n",
    "\n",
    "similarly, scalar operators do not change sign under parity \n",
    "\n",
    "$$\n",
    "{\\bf P}\\; \\left (\\vec r \\cdot \\vec p \\right ) \\; {\\bf P}^\\dagger \\rightarrow + \\vec r \\cdot \\vec p\n",
    "$$\n",
    "\n",
    "while pseudoscalar operators do change sign:\n",
    "\n",
    "$$\n",
    "{\\bf P}\\; \\left (\\vec p \\cdot \\vec L \\right ) \\; {\\bf P}^\\dagger \\rightarrow - \\vec p \\cdot \\vec L \n",
    "$$\n",
    "\n",
    "For each of the operators below, state whether they are scalar, pseudoscalar. vector or pseudovector:\n",
    "- (a) $\\vec p_1 \\cdot \\left (\\vec p_2 \\times \\vec p_3 \\right )$ where 1. 2 and 3 are three different particles\n",
    "-(b)  $\\vec p_1 \\times \\left (\\vec p_2 \\times \\vec p_3 \\right )$ where 1. 2 and 3 are three different particles\n",
    "- (c) The magnetic moment $\\vec \\mu$ of a particle\n",
    "- (d) The magnetic field $\\vec B$\\;\\; (Hint: look at the Biot-Savart law)\n",
    "- (e) $\\left (\\vec p_1 \\times \\vec p_2 \\right) \\cdot \\left (\\vec S_1+\\vec S_2 \\right)$ where 1 and 2 are two different particles\n"
   ]
  },
  {
   "cell_type": "markdown",
   "metadata": {},
   "source": [
    "Write your answer here"
   ]
  },
  {
   "cell_type": "markdown",
   "metadata": {},
   "source": [
    "## Question 4: Parity in Particle Decays (10 points)"
   ]
  },
  {
   "cell_type": "markdown",
   "metadata": {},
   "source": [
    "### Learning objectives\n",
    "In this question you will:\n",
    "\n",
    "- Explore how conservation laws can be used to exclude specific decay channels"
   ]
  },
  {
   "cell_type": "markdown",
   "metadata": {},
   "source": [
    "Show that a scalar meson (a meson with spin 0 and parity +1) cannot decay to three pseudoscalar mesons (mesons with spin 0 and parity -1) in a parity-conserving process such as the strong interaction."
   ]
  },
  {
   "cell_type": "markdown",
   "metadata": {},
   "source": [
    "Write you answer here"
   ]
  },
  {
   "cell_type": "markdown",
   "metadata": {},
   "source": [
    "## Question 5: $\\Lambda^{0} $ polarization in the strong interactions (20 points) "
   ]
  },
  {
   "cell_type": "markdown",
   "metadata": {},
   "source": [
    "### Learning objectives\n",
    "In this question you will:\n",
    "\n",
    "- Apply the concept of parity conservation in the strong interactions to determine what functional forms are allowed for a specific observable (the polarization)"
   ]
  },
  {
   "cell_type": "markdown",
   "metadata": {},
   "source": [
    "Consider the production of $\\Lambda$ particles via a strong interaction:\n",
    "\n",
    "$$\n",
    "p + p \\rightarrow \\Lambda^{0} + X\n",
    "$$\n",
    "\n",
    "where $X$ represents one of more additional final state particles that are not necessarily observed. Assume that the $\\Lambda^{0}$ and  $X$ each have the same parity as the proton. Also assume that the initial protons are unpolarized.   In the center-of-mass frame, the momentum vectors of the two protons and the $\\Lambda^{0}$ all lie in a plane, called the production plane:"
   ]
  },
  {
   "cell_type": "markdown",
   "metadata": {},
   "source": [
    "<img src=\"productionPlane.png\" alt=\"Drawing\" style=\"width: 600px;\"/>"
   ]
  },
  {
   "cell_type": "markdown",
   "metadata": {},
   "source": [
    "It has been observed that $\\Lambda^{0}$ (which are spin 1/2 particles) are polarized.  This means that the expectation value  $\\left < \\vec S_{\\Lambda} \\cdot \\hat n\\right > \\ne 0$ for certain unit vectors $\\hat n$.  Here $\\vec S_{\\Lambda}$ is the spin vector of the $\\Lambda^{0}$.  \n",
    "\n",
    "In this problem, you will determine what possible directions $\\hat n$ can have."
   ]
  },
  {
   "cell_type": "markdown",
   "metadata": {},
   "source": [
    "(a) Show that if $\\hat n$ lies in the production plane, then $\\left < \\vec S_{\\Lambda} \\cdot \\hat n\\right > = 0$ if parity is conserved "
   ]
  },
  {
   "cell_type": "raw",
   "metadata": {},
   "source": [
    "Write your answer here"
   ]
  },
  {
   "cell_type": "markdown",
   "metadata": {},
   "source": [
    "(b) Show that a non-zero value of $\\left < \\vec S_{\\Lambda} \\cdot \\hat n\\right > $ is possible if $\\hat n$ is perpendicular to the production plane"
   ]
  },
  {
   "cell_type": "markdown",
   "metadata": {},
   "source": [
    "Hints:\n",
    "1) In the center of mass frame of two unpolarized colliding particles of the same species, the scattering rate must be be a symmetric function of $\\cos \\theta^*$ (the polar angle with respect to the $pp$ direction) since there is no distinction between the forward and backward directions.  \n",
    "2) Work in the center-of-mass frame since this is where the production plane is defined.  In each case, express $\\hat n$ as a function of the 3-momenta of the specified particles."
   ]
  },
  {
   "cell_type": "markdown",
   "metadata": {},
   "source": [
    "Write your answer here"
   ]
  }
 ],
 "metadata": {
  "kernelspec": {
   "display_name": "Python 3",
   "language": "python",
   "name": "python3"
  },
  "language_info": {
   "codemirror_mode": {
    "name": "ipython",
    "version": 3
   },
   "file_extension": ".py",
   "mimetype": "text/x-python",
   "name": "python",
   "nbconvert_exporter": "python",
   "pygments_lexer": "ipython3",
   "version": "3.7.4"
  }
 },
 "nbformat": 4,
 "nbformat_minor": 4
}
