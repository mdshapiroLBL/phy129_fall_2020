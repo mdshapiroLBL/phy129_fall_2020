{
 "cells": [
  {
   "cell_type": "markdown",
   "metadata": {},
   "source": [
    "# Problem Set 13 problems"
   ]
  },
  {
   "cell_type": "markdown",
   "metadata": {},
   "source": [
    "## Question 1: NeutrinoOscillations (40 points)"
   ]
  },
  {
   "cell_type": "markdown",
   "metadata": {},
   "source": [
    "### Learning objectives\n",
    "In this question you will:\n",
    "\n",
    "- Understand the phenomology of neutrino oscillations by studying the expression of the mixingprobability as a function of distance from the neutrino production point\n",
    "- Learn how the best estimate of $\\Delta m^2$ and its uncertainty can be obtained using a fit to experimental data.\n"
   ]
  },
  {
   "cell_type": "markdown",
   "metadata": {
    "flags": [
     "problems",
     "solutions"
    ]
   },
   "source": [
    "Consider a system with two massive neutrinos, $\\nu_e$ and $\\nu_\\mu$. An electron neutrino, $\\nu_e$, created at time $t= 0$ in the core of the Sun, is described as a linear combination of two mass eigenstates $\\nu_1$and $nu_2$:\n",
    "$$\n",
    "\\left | \\nu_e \\right \\rangle = \\cos\\theta \\left | \\nu_1 \\right \\rangle + \\sin \\theta  \\left |\\nu_2 \\right \\rangle\n",
    "$$`\n",
    "where $\\theta$ is a two-generation mixing angle. Similarly, the muon neutrino would be defined as the orthogonal linear combination:\n",
    "$$\n",
    "\\left | \\nu_\\mu \\right \\rangle = -\\sin\\theta \\left | \\nu_1 \\right \\rangle +\n",
    "\\cos \\theta  \\left |\\nu_2 \\right \\rangle\n",
    "$$"
   ]
  },
  {
   "cell_type": "markdown",
   "metadata": {},
   "source": [
    "### 1a. "
   ]
  },
  {
   "cell_type": "markdown",
   "metadata": {
    "flags": [
     "problems",
     "solutions"
    ]
   },
   "source": [
    "Show that the probability of finding a muon neutrino $\\nu_mu$ at a distance $L=t$ from the source is given by:\n",
    "$$\n",
    "P_{\\nu_e\\rightarrow \\nu_\\mu}(t) = \\sin^2\\left (2\\theta\\right )\n",
    "\\sin^2\\left (\\frac{\\Delta m^2 L}{4E}\\right )\n",
    "$$\n",
    "where $E\\approx p >>m_1,m_2$ is the neutrino energy and $\\Delta m^2 = {m^2}_1 - {m^2}_2$."
   ]
  },
  {
   "cell_type": "markdown",
   "metadata": {},
   "source": [
    "Write your answer here"
   ]
  },
  {
   "cell_type": "markdown",
   "metadata": {},
   "source": [
    "### 1b. "
   ]
  },
  {
   "cell_type": "markdown",
   "metadata": {
    "flags": [
     "problems",
     "solutions"
    ]
   },
   "source": [
    "[\n",
    "With $E$ measured in GeV, $L$ in km,and in $\\Delta m^2$ eV$^2$, show that the previous formula can be \n",
    "re-written as:\n",
    "$$\n",
    "P_{\\nu_e\\rightarrow \\nu_\\mu}(t) = \\sin^2\\left (2\\theta \\right )\n",
    "\\sin^2 \\left (\\frac{1.27 \\Delta m^2 L}{E} \\right )\n",
    "$$\n",
    "This formula applies to any two-flavor neutrino mixing.\n",
    "]"
   ]
  },
  {
   "cell_type": "markdown",
   "metadata": {},
   "source": [
    "Write your answer here"
   ]
  },
  {
   "cell_type": "markdown",
   "metadata": {},
   "source": [
    "### 1c. "
   ]
  },
  {
   "cell_type": "markdown",
   "metadata": {
    "flags": [
     "problems",
     "solutions"
    ]
   },
   "source": [
    "Super-Kamiokande (SuperK) experiment has analyzed the atmospheric ($\\nu_e$ and $\\nu_mu$) neutrino data and\n",
    "shown that they are consistent with two-flavor $\\nu_\\mu \\rightarrow \\nu_\\tau $ oscillations with\n",
    "$\\sin^2(2\\theta)\\sim1$ and $\\Delta m^2\\approx 10^{-3}$.\n",
    "They have also looked at the ratio of the number of $\\nu_\\mu$ events observed in data to the Monte Carlo prediction.\n",
    "The muon neutrinos were detected through the charge-current reaction emitting a muon. The approximate results are shown below.\n",
    "The distance from the production point to the detector was varied by\n",
    "observing the azimuthal dependence of the neutrino flux. Here, Monte Carlo  takes into account\n",
    "muon production in the atmosphere, energy-dependent efficiencies, etc, but assumes no oscillations.\n",
    "Thus, if neutrinos oscillate, the ratio of the yield in data to that in Monte Carlo should vary \n",
    "with distance according to the formula you derived above.\n",
    "\n",
    "$$\n",
    "\\begin{array}{|l|l|}\n",
    "    \\hline\n",
    "  L/E_\\nu\\; (km/GeV) & Data / Monte Carlo\\\\\n",
    " \\hline\n",
    " 0.7& 1.00 \\pm 0.20 \\\\\n",
    "20 & 1.00 \\pm 0.08\\\\\n",
    "70 & 0.90 \\pm 0.08\\\\\n",
    "200 & 0.83 \\pm 0.15\\\\\n",
    "700& 0.65 \\pm 0.15\\\\\n",
    "2000& 0.70 \\pm 0.08\\\\\n",
    "7000& 0.63 \\pm 0.06\\\\\n",
    "20000& 0.61 \\pm 0.08\\\\\n",
    "\\hline\n",
    "\\end{array}\n",
    "$$\n",
    "\n",
    "\n",
    "Make a plot of the results above with $L/E_\\nu$ on the horizontal\n",
    "axis in log scale. At large $L/E_\\nu$, the muon neutrinos have\n",
    "presumably undergone numerous oscillations and have averaged out to\n",
    "roughly half the initial rate.  Using\n",
    "$\\sin^2\\left (2\\theta \\right ) = 1$, make an estimate of $\\Delta m^2$."
   ]
  },
  {
   "cell_type": "code",
   "execution_count": 1,
   "metadata": {},
   "outputs": [],
   "source": [
    "#Write your answer here"
   ]
  }
 ],
 "metadata": {
  "kernelspec": {
   "display_name": "Python 3",
   "language": "python",
   "name": "python3"
  },
  "language_info": {
   "codemirror_mode": {
    "name": "ipython",
    "version": 3
   },
   "file_extension": ".py",
   "mimetype": "text/x-python",
   "name": "python",
   "nbconvert_exporter": "python",
   "pygments_lexer": "ipython3",
   "version": "3.7.4"
  }
 },
 "nbformat": 4,
 "nbformat_minor": 4
}
