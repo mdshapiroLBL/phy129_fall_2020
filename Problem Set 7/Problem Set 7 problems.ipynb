{
 "cells": [
  {
   "cell_type": "markdown",
   "metadata": {},
   "source": [
    "# Problem Set 7 problems"
   ]
  },
  {
   "cell_type": "markdown",
   "metadata": {},
   "source": [
    "## Question 1: Lorentz Invariant Phase Space (LIPS) (25 points)"
   ]
  },
  {
   "cell_type": "markdown",
   "metadata": {},
   "source": [
    " In class we argued that the phase space factor\n",
    "$$\n",
    "\\frac{d^3p}{E}                                             \n",
    " $$\n",
    "is Lorentz invariant.  Show explicitly that if we move from an initial reference frame $F$ to another frame $F'$ moving with velocity $\\beta$ with respect to $F$ that the value of the factor above is in fact Lorentz invariant (you may take the velocity being in n the $z$-direction)"
   ]
  },
  {
   "cell_type": "markdown",
   "metadata": {},
   "source": [
    "Write your answer here"
   ]
  },
  {
   "cell_type": "markdown",
   "metadata": {},
   "source": [
    "## Question 2: Solutions to the Dirac Equation (I) Thomson 4.3 (25 points)"
   ]
  },
  {
   "cell_type": "markdown",
   "metadata": {
    "flags": [
     "problems",
     "solutions"
    ]
   },
   "source": [
    "The solutions to the Dirac equation can be written as four spinors labeled $u_1$ through $u_4$.  The explicit form of these spinors is given on slide 16 of Lecture 13 or in Equation 4.48 of Thompson.  By writing the Dirac Equation\n",
    "    $$\n",
    "    \\left (\\gamma^\\mu p_\\mu -m  \\right ) u = 0\n",
    "    $$\n",
    "in matrix form where\n",
    "    $$\n",
    "    p_\\mu = \\left (\\begin{array}{c} E\\\\ p_x \\\\ p_y \\\\ p_z \\end{array} \\right )\n",
    "    $$\n",
    "and $\\gamma^\\mu$ are the matrices given on page of Lecture 13 or Equation~4.35 of Thomson, show that Einstein's energy-momentum relationship $E^2 = p^2+m^2$ is satisfied for each of the four $u$."
   ]
  },
  {
   "cell_type": "markdown",
   "metadata": {},
   "source": [
    "Write your answer here"
   ]
  },
  {
   "cell_type": "markdown",
   "metadata": {},
   "source": [
    "## Question 3: Properties of $\\gamma$ matrices (Thomson 4.6) (25 points)"
   ]
  },
  {
   "cell_type": "markdown",
   "metadata": {
    "flags": [
     "problems",
     "solutions"
    ]
   },
   "source": [
    "By considering the 3 cases $\\mu=\\nu =0$, $\\mu=\\nu \\ne 0$ and $\\mu\\ne \\nu$, show that\n",
    "$$\n",
    "\\left \\{\\gamma^\\mu,\\gamma^\\nu \\right \\} = 2g^{\\mu \\nu}\n",
    "$$\n",
    "where $\\left \\{a,b \\right \\}\\equiv ab+ba$"
   ]
  },
  {
   "cell_type": "markdown",
   "metadata": {},
   "source": [
    "Write your answer here"
   ]
  },
  {
   "cell_type": "markdown",
   "metadata": {},
   "source": [
    "## Question 4: Solutions to the Dirac Eq (II) (25 points)"
   ]
  },
  {
   "cell_type": "markdown",
   "metadata": {},
   "source": [
    "As discussed in Lecture 13 pages 17 and 18, the solutions to the Dirac Equation corresponding to $u_3$ and $u_4$ correspond to particles with negative energy.  These states are typically reinterpreted as positive energy states anti-particle states.  In this reinterpretation, $u_3$ and $u_4$ are replaced by $v_1$ and $v_2$ (see page 18 of the lecture notes or Equation 4.52 of Thomson)."
   ]
  },
  {
   "cell_type": "markdown",
   "metadata": {},
   "source": [
    "## 4a."
   ]
  },
  {
   "cell_type": "markdown",
   "metadata": {},
   "source": [
    "Show that the solutions $u_1$ and $u_2$ discussed in problem 1 are orthogonal (ie $u^\\dagger_1 u_2 = 0$), as are $v_1$ and $v_2$"
   ]
  },
  {
   "cell_type": "markdown",
   "metadata": {},
   "source": [
    "write your answer here"
   ]
  },
  {
   "cell_type": "markdown",
   "metadata": {},
   "source": [
    "## 4b."
   ]
  },
  {
   "cell_type": "markdown",
   "metadata": {},
   "source": [
    "Show that $u_1$ and $v_1$ are not orthogonal"
   ]
  },
  {
   "cell_type": "markdown",
   "metadata": {},
   "source": [
    "Write your answer here"
   ]
  }
 ],
 "metadata": {
  "kernelspec": {
   "display_name": "Python 3",
   "language": "python",
   "name": "python3"
  },
  "language_info": {
   "codemirror_mode": {
    "name": "ipython",
    "version": 3
   },
   "file_extension": ".py",
   "mimetype": "text/x-python",
   "name": "python",
   "nbconvert_exporter": "python",
   "pygments_lexer": "ipython3",
   "version": "3.7.4"
  }
 },
 "nbformat": 4,
 "nbformat_minor": 4
}
