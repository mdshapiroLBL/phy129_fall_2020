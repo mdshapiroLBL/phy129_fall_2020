{
 "cells": [
  {
   "cell_type": "markdown",
   "metadata": {},
   "source": [
    "# Problem Set 12 problems"
   ]
  },
  {
   "cell_type": "markdown",
   "metadata": {},
   "source": [
    "## Question 1: Feynman diagrams with $\\gamma$, $W$  and $Z$ bosons (30 points)"
   ]
  },
  {
   "cell_type": "markdown",
   "metadata": {},
   "source": [
    "### Learning objectives\n",
    "In this question you will:\n",
    "\n",
    "- Apply knowlege of Feynman diagrams involved electroweak bosons to various physical processes\n"
   ]
  },
  {
   "cell_type": "markdown",
   "metadata": {},
   "source": [
    "Draw the lowest order Feynman diagram or diagrams for each of the following processes"
   ]
  },
  {
   "cell_type": "markdown",
   "metadata": {},
   "source": [
    "### 1a. "
   ]
  },
  {
   "cell_type": "markdown",
   "metadata": {
    "flags": [
     "problems",
     "solutions"
    ]
   },
   "source": [
    "$e^+ e^- \\rightarrow \\nu_\\tau \\overline \\nu_\\tau$ "
   ]
  },
  {
   "cell_type": "markdown",
   "metadata": {},
   "source": [
    "Write your answer here"
   ]
  },
  {
   "cell_type": "markdown",
   "metadata": {},
   "source": [
    "### 1b. "
   ]
  },
  {
   "cell_type": "markdown",
   "metadata": {
    "flags": [
     "problems",
     "solutions"
    ]
   },
   "source": [
    "$\\mu^+ \\mu^- \\rightarrow u\\overline u$ where $u$ is an up quark"
   ]
  },
  {
   "cell_type": "markdown",
   "metadata": {},
   "source": [
    "Write your answer here"
   ]
  },
  {
   "cell_type": "markdown",
   "metadata": {},
   "source": [
    "### 1c. "
   ]
  },
  {
   "cell_type": "markdown",
   "metadata": {},
   "source": [
    "$\\overline \\nu_\\mu + e^- \\rightarrow \\overline \\nu_\\mu + e^-$"
   ]
  },
  {
   "cell_type": "markdown",
   "metadata": {},
   "source": [
    "Write your answer here"
   ]
  },
  {
   "cell_type": "markdown",
   "metadata": {},
   "source": [
    "### 1d. "
   ]
  },
  {
   "cell_type": "markdown",
   "metadata": {},
   "source": [
    "$\\overline \\nu_e + e^- \\rightarrow \\overline \\nu_e + e^-$"
   ]
  },
  {
   "cell_type": "markdown",
   "metadata": {},
   "source": [
    "Write your answer here"
   ]
  },
  {
   "cell_type": "markdown",
   "metadata": {},
   "source": [
    "### 1e."
   ]
  },
  {
   "cell_type": "markdown",
   "metadata": {},
   "source": [
    "$p\\overline p \\rightarrow W^+ W^-$ (consider only the valence quarks in the proton and anti-proton)"
   ]
  },
  {
   "cell_type": "markdown",
   "metadata": {},
   "source": [
    "Write your answer here"
   ]
  },
  {
   "cell_type": "markdown",
   "metadata": {},
   "source": [
    "## Question 2: Mixing in the $K$ and $B$ systems (30 points)"
   ]
  },
  {
   "cell_type": "markdown",
   "metadata": {},
   "source": [
    "### Learning objectives\n",
    "In this question you will:\n",
    "\n",
    "- Review the formulae for flavor mixing and see how the mixing phenomenology depends on $\\Delta \\Gamma$ and $\\Delta m$"
   ]
  },
  {
   "cell_type": "markdown",
   "metadata": {},
   "source": [
    "The phenomenon if $K^0$-$\\overline K^0$ mixing was discussed in Lecture 22 and in Thomson Section 14.5. If a $K^0$ is produced via the strong interactions at $t=0$ the probabilities of the state being observed   as a $K^0$ or as a $\\overline K^0$ at a later time $t$ are giving by the expressions\n",
    "$$\n",
    "\\begin{array}{lcr}\n",
    "P(K^0_{t=0} \\rightarrow K^0 ) & = & \\frac{1}{4}  \\left [\n",
    "e^{-\\Gamma_1 t}   +\n",
    "e^{-\\Gamma_2 t} + 2 e^{-(\\Gamma_1+\\Gamma_2)t/2}\\cos(\\Delta m t)\n",
    "\\right ] \\\\\n",
    "P(K^0_{t=0} \\rightarrow \\overline K^0 ) & = & \\frac{1}{4}  \\left [\n",
    "e^{-\\Gamma_1 t}   +\n",
    "e^{-\\Gamma_2 t} - 2 e^{-(\\Gamma_1+\\Gamma_2)t/2}\\cos(\\Delta m t)\n",
    "\\right ] \\\\\n",
    "\\end{array}\n",
    "$$                                                                                                            \n",
    "where $\\Gamma_1$ and $\\Gamma_2$ are the inverse lifetimes of the $K_S$ and $K_L$ states and $\\Delta m$ is the mass difference between the states.   Note:  for this problem we will ignore CP violation so that $|K_S> \\equiv |K_1>$ and $|K_L> \\equiv |K_2>$"
   ]
  },
  {
   "cell_type": "markdown",
   "metadata": {},
   "source": [
    "### 2a."
   ]
  },
  {
   "cell_type": "markdown",
   "metadata": {},
   "source": [
    "If a beam of 1 million $K^0$ is produced, using the measured values of the $K_S$ and $K_L$ lifetimes plot the predicted number of $K^0$ and of $\\overline K^0$ that would be present in the beam as a function of time for $0<t<\\frac{10}{\\Gamma_1}$ if the value of $\\Delta m $ were 0, $0.5\\Gamma$ or $\\Gamma$."
   ]
  },
  {
   "cell_type": "code",
   "execution_count": 5,
   "metadata": {},
   "outputs": [],
   "source": [
    "# Write your answer here"
   ]
  },
  {
   "cell_type": "markdown",
   "metadata": {},
   "source": [
    "### 2b."
   ]
  },
  {
   "cell_type": "markdown",
   "metadata": {},
   "source": [
    "Remake the plot above but plotting the predicted number of $K_1$ and $K_2$ in the beam instead of\n",
    "  $K_0$ and $\\overline K_0$"
   ]
  },
  {
   "cell_type": "code",
   "execution_count": 6,
   "metadata": {},
   "outputs": [],
   "source": [
    "# Write your answer here"
   ]
  },
  {
   "cell_type": "markdown",
   "metadata": {},
   "source": [
    "### 2c."
   ]
  },
  {
   "cell_type": "markdown",
   "metadata": {},
   "source": [
    "The measured value of the mass difference is\n",
    "  $$                                                                                                          \n",
    "  \\Delta m = 3.383\\times 10^{-15} \\;{\\rm GeV}                                                                 \n",
    "  $$\n",
    "remake the plots above for this value"
   ]
  },
  {
   "cell_type": "code",
   "execution_count": 7,
   "metadata": {},
   "outputs": [],
   "source": [
    "# Write your answer here"
   ]
  },
  {
   "cell_type": "markdown",
   "metadata": {},
   "source": [
    "### 2d"
   ]
  },
  {
   "cell_type": "markdown",
   "metadata": {},
   "source": [
    "The same expressions used for $K^0$ mixing can be applied to the $B^0$ and to the $B_s$. Use the PDG to find the values of $\\Gamma_1$, $\\Gamma_2$ and $\\Delta m$ for the $B^0$ and the $B_s$.  Using these numbers repeat 2c for these two neutral mesons. "
   ]
  },
  {
   "cell_type": "code",
   "execution_count": 8,
   "metadata": {},
   "outputs": [],
   "source": [
    "# Write your answer here"
   ]
  }
 ],
 "metadata": {
  "kernelspec": {
   "display_name": "Python 3",
   "language": "python",
   "name": "python3"
  },
  "language_info": {
   "codemirror_mode": {
    "name": "ipython",
    "version": 3
   },
   "file_extension": ".py",
   "mimetype": "text/x-python",
   "name": "python",
   "nbconvert_exporter": "python",
   "pygments_lexer": "ipython3",
   "version": "3.7.4"
  }
 },
 "nbformat": 4,
 "nbformat_minor": 4
}
